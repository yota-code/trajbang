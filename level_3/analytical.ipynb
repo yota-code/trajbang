{
 "cells": [
  {
   "cell_type": "markdown",
   "metadata": {},
   "source": [
    "# level 3\n",
    "\n",
    "This trajbang algorithm is made of 3 levels (and two integrations) :\n",
    "\n",
    "* first level is the jerk, which can be null or maximal\n",
    "* the second level is the acceleration (first order integration of the jerk)\n",
    "* the third level is the speed (second order integration of the jerk)\n",
    "\n",
    "The solution depend on the initial conditions (on acceleration and speed). And the final objectives on speed (acceleration being null at the end)"
   ]
  },
  {
   "cell_type": "code",
   "execution_count": 14,
   "metadata": {},
   "outputs": [
    {
     "name": "stdout",
     "output_type": "stream",
     "text": [
      "IPython console for SymPy 1.4 (Python 3.7.3-64-bit) (ground types: python)\n",
      "\n",
      "These commands were executed:\n",
      ">>> from __future__ import division\n",
      ">>> from sympy import *\n",
      ">>> x, y, z, t = symbols('x y z t')\n",
      ">>> k, m, n = symbols('k m n', integer=True)\n",
      ">>> f, g, h = symbols('f g h', cls=Function)\n",
      ">>> init_printing()\n",
      "\n",
      "Documentation can be found at https://docs.sympy.org/1.4/\n",
      "\n"
     ]
    }
   ],
   "source": [
    "import math\n",
    "import sys\n",
    "\n",
    "sys.path.append('.')\n",
    "\n",
    "import sympy\n",
    "from sympy import symbols as sym\n",
    "\n",
    "J_m, A_m, A_0, S_0, S_g = sym('J_m A_m A_0 S_0 S_g')\n",
    "\n",
    "import analytical\n",
    "import plot"
   ]
  },
  {
   "cell_type": "markdown",
   "metadata": {},
   "source": [
    "## Trivial case\n",
    "\n",
    "We start with an acceleration equal to zero, and we have the time to reach maximal acceleration"
   ]
  },
  {
   "cell_type": "code",
   "execution_count": 17,
   "metadata": {},
   "outputs": [
    {
     "data": {
      "image/png": "[encoded data removed]",
      "text/latex": [
       "$\\displaystyle \\left[ \\frac{A_{m}}{J_{m}}, \\  \\frac{- \\frac{A_{m}^{2}}{J_{m}} + \\left|{S_{0} - S_{g}}\\right|}{A_{m}}, \\  \\frac{A_{m}}{J_{m}}\\right]$"
      ],
      "text/plain": [
       "⎡        2                 ⎤\n",
       "⎢      Aₘ                  ⎥\n",
       "⎢    - ─── + │S₀ - S_g│    ⎥\n",
       "⎢Aₘ     Jₘ               Aₘ⎥\n",
       "⎢──, ──────────────────, ──⎥\n",
       "⎣Jₘ          Aₘ          Jₘ⎦"
      ]
     },
     "execution_count": 17,
     "metadata": {},
     "output_type": "execute_result"
    }
   ],
   "source": [
    "bch, cmd, dur, val = analytical.compute_3(1.0, 1.0, 0.0, 0.0, 2.0)\n",
    "dur"
   ]
  },
  {
   "cell_type": "code",
   "execution_count": 18,
   "metadata": {},
   "outputs": [
    {
     "name": "stdout",
     "output_type": "stream",
     "text": [
      "d =  [1.0, 1.0, 1.0, 1.0]\n",
      "t =  [0. 1. 2. 3. 4.]\n",
      "z =  [1.0, 0.0, -1.0, 0.0]\n",
      "acc:  0.00000,  1.00000,  1.00000,  0.00000,  0.00000\n",
      "spd:  0.00000,  0.50000,  1.50000,  2.00000,  2.00000\n"
     ]
    },
    {
     "data": {
      "image/png": "[encoded data removed]",
      "text/latex": [
       "$\\displaystyle \\left( \\left[ 0.0, \\  1.0, \\  1.0, \\  0, \\  0\\right], \\  \\left[ 0.0, \\  0.5, \\  1.5, \\  2.0, \\  2.0\\right]\\right)$"
      ],
      "text/plain": [
       "([0.0, 1.0, 1.0, 0, 0], [0.0, 0.5, 1.5, 2.0, 2.0])"
      ]
     },
     "execution_count": 18,
     "metadata": {},
     "output_type": "execute_result"
    }
   ],
   "source": [
    "plot.plot_3(cmd + [0.0,], [float(d.subs(val)) for d in dur] + [1.0,], val, bch)"
   ]
  },
  {
   "cell_type": "code",
   "execution_count": null,
   "metadata": {},
   "outputs": [],
   "source": []
  }
 ],
 "metadata": {
  "kernelspec": {
   "display_name": "Python 3",
   "language": "python",
   "name": "python3"
  },
  "language_info": {
   "codemirror_mode": {
    "name": "ipython",
    "version": 3
   },
   "file_extension": ".py",
   "mimetype": "text/x-python",
   "name": "python",
   "nbconvert_exporter": "python",
   "pygments_lexer": "ipython3",
   "version": "3.7.3"
  }
 },
 "nbformat": 4,
 "nbformat_minor": 2
}
